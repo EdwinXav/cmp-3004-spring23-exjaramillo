{
 "cells": [
  {
   "cell_type": "markdown",
   "id": "a2665cc8",
   "metadata": {},
   "source": [
    "## CMP-3004\n",
    "## Computer Organization\n",
    "\n",
    "### Spring 2023"
   ]
  },
  {
   "cell_type": "markdown",
   "id": "df038792",
   "metadata": {},
   "source": [
    "## Homework 2\n",
    "### Edwin Jaramillo (00320842)"
   ]
  },
  {
   "cell_type": "markdown",
   "id": "d7a5493e",
   "metadata": {},
   "source": [
    "### 1. List and briefly define the possible states that define an instruction execution."
   ]
  },
  {
   "cell_type": "markdown",
   "id": "c5f8c5c0",
   "metadata": {},
   "source": [
    "1) FETCH: Read instruction from its memory location into the processor.\n",
    "\n",
    "2) DECODE: Analyze instruction to determine the type of operation to be performed and operands to be used.\n",
    "\n",
    "3) EVALUATE ADDRESS: If the operation involves reference to an operand in memory or available via I/O, the address of the operand is determined.\n",
    "\n",
    "4) FETCH OPERANDS: Fetch the operand from memory or read it in from I/O.\n",
    "\n",
    "5) EXECUTE: Perform the operation indicated in the instruction.\n",
    "\n",
    "6) STORE RESULT: Write the result into memory or out to I/O."
   ]
  },
  {
   "cell_type": "markdown",
   "id": "6d39def2",
   "metadata": {},
   "source": [
    "### 2. What types of transfers must a computer’s interconnection structure (e.g., bus) support?"
   ]
  },
  {
   "cell_type": "markdown",
   "id": "e584db70",
   "metadata": {},
   "source": [
    "• Processor to memory: The processor writes a unit of data to memory.\n",
    "\n",
    "• Memory to processor: The processor reads an instruction or a unit of data from memory.\n",
    "\n",
    "• Processor to I/O: The processor sends data to the I/O device.\n",
    "\n",
    "• I/O to processor: The processor reads data from an I/O device via an I/O module.\n",
    "\n",
    "• I/O to or from memory: An I/O module is allowed to swap data directly with memory, without going through the processor using direct memory access."
   ]
  },
  {
   "cell_type": "markdown",
   "id": "f7c2063e",
   "metadata": {},
   "source": [
    "### 3. Consider a hypothetical 32-bit microprocessor having 32-bit instructions composed of two fields: the first byte contains the opcode and the remainder the immediate operand or an operand address.\n",
    "a. What is the maximum directly addressable memory capacity (in bytes)?\n",
    "\n",
    "    32 bit - 8 (first bit) = 24 \n",
    "   \n",
    "    2^24 = 16,777,216 bytes = 16mb\n",
    "\n",
    "\n",
    "b. Discuss the impact on the system speed if the microprocessor bus has:\n",
    "\n",
    "    1. 32-bit local address bus and a 16-bit local data bus, or\n",
    "    \n",
    "        For the address bus that is 32 bits, the whole address can be transferred to memory at once and decoded there.\n",
    "        If the data bus is only 16 bits, it will require 2 bus cycles to fetch the 32-bit instruction or operand.\n",
    "\n",
    "    2. 16-bit local address bus and a 16-bit local data bus.\n",
    "    \n",
    "        Instruction and data transfers would take four bus cycles each, two for the address and two for the data. \n",
    "        If the address bus is 16 bits, it will not be able to access the entire memory, so that will cause the processor to make two transmissions to send the entire 32-bit address to memory. \n",
    "        In addition to this two-step addressing problem, since the data bus is also 16-bit, the microprocessor will need 2 bus cycles to fetch the 32-bit instruction or operand.\n",
    "\n",
    "c. How many bits are needed for the program counter and the instruction register?\n",
    "\n",
    "    The program counter must be 24 bits. The instruction register must be 32 bits."
   ]
  },
  {
   "cell_type": "markdown",
   "id": "85a4f601",
   "metadata": {},
   "source": [
    "### 4. A microprocessor is clocked at a rate of 5 GHz.\n",
    "a. How long is a clock cycle?\n",
    "\n",
    "    Frequency of the clock = 5Ghz = 5 * 10^9\n",
    "    A clock cycle = one rotation = 1/(5*10^9) = 0.20 nano second\n",
    "\n",
    "b. What is the duration of a particular type of machine instruction consisting of three clock cycles?\n",
    "\n",
    "    Duration = 3 * clock cycle = 3 * 0.20 nano second = 0.60 nano second"
   ]
  },
  {
   "cell_type": "markdown",
   "id": "02d33e02",
   "metadata": {},
   "source": [
    "### 5. Suppose you wish to run a program P with $7.5 \\times 10^9$ instructions on a 5 GHz machine with a CPI of 0.8.\n",
    "a. What is the expected CPU time?\n",
    "\n",
    "    expected CPU time = instructions * CPI * 1/rate\n",
    "    expected CPU time = 7.5*10^9 * 0.8 * 1/(5*10^9)    \n",
    "    expected CPU time = 1.2 seconds\n",
    "\n",
    "b. When you run P, it takes 3 seconds of wall clock time to complete. What is the percentage of the CPU time P received?\n",
    "\n",
    "    percentage = 1.2/3 * 100 = 40%"
   ]
  },
  {
   "cell_type": "markdown",
   "id": "18c4b56e",
   "metadata": {},
   "source": [
    "### 6. A nonpipelined processor has a clock rate of 2.5 GHz and an average CPI (cycles per instruction) of 4. An upgrade to the processor introduces a five-stage pipeline. However, due to internal pipeline delays, such as latch delay, the clock rate of the new processor has to be reduced to 2 GHz. What is the speedup achieved for a typical program?"
   ]
  },
  {
   "cell_type": "markdown",
   "id": "3f1ad059",
   "metadata": {},
   "source": [
    "    Frequency of the clock = 2.5Ghz = 2.5 * 10^9\n",
    "\n",
    "    Cycle time = 1 / (2.5 * 10^9)\n",
    "    Cycle time = 0.4 nano second\n",
    "\n",
    "    Non-pipeline execution time = cycles per instruction * Frequency of the clock.\n",
    "    Non-pipeline execution time = 4 x 0.4 nano second\n",
    "    Non-pipeline execution time = 1.6 nano second\n",
    "\n",
    "## ------------------------------------------------------------------------------\n",
    "\n",
    "    Frequency of the clock reduced = 2Ghz = 2 * 10^9\n",
    "\n",
    "    Cycle time = 1 / (2 * 10^9)\n",
    "    Cycle time = 0.5 nano second\n",
    "\n",
    "    Pipeline execution time = 1 clock cycle * Frequency of the clock\n",
    "    Pipeline execution time = 1 * 0.5 = 0.5 nano second\n",
    "\n",
    "## ------------------------------------------------------------------------------\n",
    "\n",
    "    Speedup = Non-pipeline execution time / Pipeline execution time\n",
    "    Speedup = 1.6 / 0.5 \n",
    "    Speedup = 3.2"
   ]
  },
  {
   "cell_type": "code",
   "execution_count": null,
   "id": "74c898f9",
   "metadata": {},
   "outputs": [],
   "source": []
  }
 ],
 "metadata": {
  "kernelspec": {
   "display_name": "Python 3 (ipykernel)",
   "language": "python",
   "name": "python3"
  },
  "language_info": {
   "codemirror_mode": {
    "name": "ipython",
    "version": 3
   },
   "file_extension": ".py",
   "mimetype": "text/x-python",
   "name": "python",
   "nbconvert_exporter": "python",
   "pygments_lexer": "ipython3",
   "version": "3.9.13"
  }
 },
 "nbformat": 4,
 "nbformat_minor": 5
}
